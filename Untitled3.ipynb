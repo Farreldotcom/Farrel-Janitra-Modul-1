{
  "nbformat": 4,
  "nbformat_minor": 0,
  "metadata": {
    "colab": {
      "provenance": [],
      "authorship_tag": "ABX9TyM0K6Uo1imLCnVyHVBRsOz9",
      "include_colab_link": true
    },
    "kernelspec": {
      "name": "python3",
      "display_name": "Python 3"
    },
    "language_info": {
      "name": "python"
    }
  },
  "cells": [
    {
      "cell_type": "markdown",
      "metadata": {
        "id": "view-in-github",
        "colab_type": "text"
      },
      "source": [
        "<a href=\"https://colab.research.google.com/github/Farreldotcom/Farrel-Janitra-Modul-1/blob/main/Untitled3.ipynb\" target=\"_parent\"><img src=\"https://colab.research.google.com/assets/colab-badge.svg\" alt=\"Open In Colab\"/></a>"
      ]
    },
    {
      "cell_type": "code",
      "execution_count": null,
      "metadata": {
        "id": "mn6axdIH4FPN"
      },
      "outputs": [],
      "source": [
        "import math\n",
        "\n",
        "def f(x):\n",
        "  return x**3 - 3*x**2 + 2*x\n",
        "\n",
        "def bisection(a, b, tol):\n",
        "  if f(a) * f(b) >= 0:\n",
        "    print(\"Bisection method fails.\")\n",
        "    return None\n",
        "\n",
        "  c = (a + b) / 2\n",
        "  while (b - a) / 2 > tol:\n",
        "    if f(c) == 0:\n",
        "      return c\n",
        "    elif f(a) * f(c) < 0:\n",
        "      b = c\n",
        "    else:\n",
        "      a = c\n",
        "    c = (a + b) / 2\n",
        "  return c\n",
        "a = 1\n",
        "b = 2\n",
        "tol = 0.01\n",
        "\n",
        "root = bisection(a, b, tol)\n",
        "\n",
        "if root is not None:\n",
        "  print(f\"Approximate root: {root}\")\n",
        "  print(f\"f({root}) = {f(root)}\")\n"
      ]
    },
    {
      "cell_type": "code",
      "source": [
        "import numpy as np\n",
        "\n",
        "def f(x):\n",
        "  return np.sin(x) - x\n",
        "\n",
        "def bisection(a, b, tol):\n",
        "  if f(a) * f(b) >= 0:\n",
        "    print(\"Bisection method fails.\")\n",
        "    return None\n",
        "\n",
        "  c = (a + b) / 2\n",
        "  while (b - a) / 2 > tol:\n",
        "    if f(c) == 0:\n",
        "      return c\n",
        "    elif f(a) * f(c) < 0:\n",
        "      b = c\n",
        "    else:\n",
        "      a = c\n",
        "    c = (a + b) / 2\n",
        "  return c\n",
        "\n",
        "a = 0\n",
        "b = 1\n",
        "tol = 0.001\n",
        "\n",
        "root = bisection(a, b, tol)\n",
        "\n",
        "if root is not None:\n",
        "  print(f\"Approximate root: {root}\")\n",
        "  print(f\"f({root}) = {f(root)}\")"
      ],
      "metadata": {
        "id": "YSc0DNhd4-Qj"
      },
      "execution_count": null,
      "outputs": []
    },
    {
      "cell_type": "code",
      "source": [
        "import math\n",
        "\n",
        "def f(x):\n",
        "  return x**3 - 3*x**2 + 2*x\n",
        "\n",
        "def f_prime(x):\n",
        "  return 3*x**2 - 6*x + 2\n",
        "\n",
        "def newton_raphson(x0, tol):\n",
        "  x = x0\n",
        "  while True:\n",
        "    x_next = x - f(x) / f_prime(x)\n",
        "    if abs(x_next - x) < tol:\n",
        "      return x_next\n",
        "    x = x_next\n",
        "\n",
        "x0 = 1.5\n",
        "tol = 0.01\n",
        "root = newton_raphson(x0, tol)\n",
        "print(f\"Approximate root: {root}\")\n",
        "print(f\"f({root}) = {f(root)}\")\n"
      ],
      "metadata": {
        "colab": {
          "base_uri": "https://localhost:8080/"
        },
        "id": "Tk6eYZoz51Iz",
        "outputId": "89f93c87-a3d4-4332-e291-b077f7345a9e"
      },
      "execution_count": null,
      "outputs": [
        {
          "output_type": "stream",
          "name": "stdout",
          "text": [
            "Approximate root: 0.0\n",
            "f(0.0) = 0.0\n"
          ]
        }
      ]
    },
    {
      "cell_type": "code",
      "source": [
        "import numpy as np\n",
        "\n",
        "def f(x):\n",
        "  return np.exp(x) - 2*x\n",
        "\n",
        "def f_prime(x):\n",
        "  return np.exp(x) - 2\n",
        "\n",
        "def newton_raphson(x0, tol):\n",
        "  x = x0\n",
        "  while True:\n",
        "    x_next = x - f(x) / f_prime(x)\n",
        "    if abs(x_next - x) < tol:\n",
        "      return x_next\n",
        "    x = x_next\n",
        "\n",
        "x0 = 1\n",
        "tol = 0.001\n",
        "root = newton_raphson(x0, tol)\n",
        "print(f\"Approximate root: {root}\")\n",
        "print(f\"f({root}) = {f(root)}\")\n"
      ],
      "metadata": {
        "id": "EZT2FzhZ6QMx"
      },
      "execution_count": null,
      "outputs": []
    }
  ]
}