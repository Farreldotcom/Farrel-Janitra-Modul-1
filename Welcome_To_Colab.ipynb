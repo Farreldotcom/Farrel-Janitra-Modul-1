{
  "cells": [
    {
      "cell_type": "markdown",
      "metadata": {
        "id": "view-in-github",
        "colab_type": "text"
      },
      "source": [
        "<a href=\"https://colab.research.google.com/github/Farreldotcom/Farrel-Janitra-Modul-1/blob/main/Welcome_To_Colab.ipynb\" target=\"_parent\"><img src=\"https://colab.research.google.com/assets/colab-badge.svg\" alt=\"Open In Colab\"/></a>"
      ]
    },
    {
      "source": [
        "def calculate(UAS, UTS, ASG):\n",
        "    return (UAS * 0.5) + (UTS * 0.3) + (ASG * 0.2)\n",
        "\n",
        "def grading(final_score):\n",
        "    if 90 <= final_score <= 100:\n",
        "        return \"A\"\n",
        "    elif 85 <= final_score <= 89:\n",
        "        return \"A-\"\n",
        "    elif 80 <= final_score <= 84:\n",
        "        return \"B+\"\n",
        "    elif 75 <= final_score <= 79:\n",
        "        return \"B\"\n",
        "    elif 70 <= final_score <= 74:\n",
        "        return \"B-\"\n",
        "    elif 65 <= final_score <= 69:\n",
        "        return \"C\"\n",
        "    elif 60 <= final_score <= 64:\n",
        "        return \"D\"\n",
        "    elif 0 <= final_score <= 59:\n",
        "        return \"E\"\n",
        "    else:\n",
        "        return \"F\"\n",
        "\n",
        "def login():\n",
        "    while True:\n",
        "        username = input(\"Masukkan username: \")\n",
        "        password = input(\"Masukkan password: \")\n",
        "        if password == \"Admin123\":\n",
        "            print(\"Login berhasil!\\n\")\n",
        "            break\n",
        "        else:\n",
        "            print(\"Password salah! Coba lagi.\\n\")\n",
        "\n",
        "# Memanggil fungsi login di awal\n",
        "login()\n",
        "\n",
        "def input_nilai(prompt):\n",
        "    while True:\n",
        "        try:\n",
        "            nilai = float(input(prompt))\n",
        "            if 0 <= nilai <= 100:\n",
        "                return nilai\n",
        "            else:\n",
        "                print(\"Nilai harus antara 0 - 100.\")\n",
        "        except ValueError:\n",
        "            print(\"Harap masukkan angka yang valid.\")\n",
        "\n",
        "nama = input(\"Masukkan nama mahasiswa: \")\n",
        "UAS = input_nilai(\"Masukkan nilai UAS: \")\n",
        "UTS = input_nilai(\"Masukkan nilai UTS: \")\n",
        "ASG = input_nilai(\"Masukkan nilai ASG: \")\n",
        "\n",
        "final_score = calculate(UAS, UTS, ASG)\n",
        "grade = grading(final_score)\n",
        "\n",
        "print(\"\\n============================================\")\n",
        "print(f\"Hasil perolehan nilai {nama}\")\n",
        "print(f\"Final Score: {final_score:.2f}\")\n",
        "print(f\"Grade: {grade}\")"
      ],
      "cell_type": "code",
      "metadata": {
        "id": "rsVfgFlWLs05",
        "outputId": "b48075e7-5e12-44e5-83ae-4f902099d829",
        "colab": {
          "base_uri": "https://localhost:8080/"
        }
      },
      "execution_count": 5,
      "outputs": [
        {
          "output_type": "stream",
          "name": "stdout",
          "text": [
            "Masukkan username: john\n",
            "Masukkan password: Admin123\n",
            "Login berhasil!\n",
            "\n",
            "Masukkan nama mahasiswa: john\n",
            "Masukkan nilai UAS: 88\n",
            "Masukkan nilai UTS: 89\n",
            "Masukkan nilai ASG: 97\n",
            "\n",
            "============================================\n",
            "Hasil perolehan nilai john\n",
            "Final Score: 90.10\n",
            "Grade: A\n"
          ]
        }
      ]
    }
  ],
  "metadata": {
    "colab": {
      "name": "Welcome To Colab",
      "toc_visible": true,
      "provenance": [],
      "include_colab_link": true
    },
    "kernelspec": {
      "display_name": "Python 3",
      "name": "python3"
    }
  },
  "nbformat": 4,
  "nbformat_minor": 0
}